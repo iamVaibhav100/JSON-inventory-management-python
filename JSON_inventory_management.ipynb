{
 "cells": [
  {
   "cell_type": "code",
   "execution_count": 1,
   "id": "10a611f2",
   "metadata": {},
   "outputs": [],
   "source": [
    "import json\n",
    "import time"
   ]
  },
  {
   "cell_type": "code",
   "execution_count": 2,
   "id": "00928c5d",
   "metadata": {},
   "outputs": [],
   "source": [
    "file = open('records.json', 'r')\n",
    "\n",
    "records = json.load(file)"
   ]
  },
  {
   "cell_type": "code",
   "execution_count": 3,
   "id": "8de4562f",
   "metadata": {},
   "outputs": [
    {
     "name": "stdout",
     "output_type": "stream",
     "text": [
      "Enter product name with no space or q to exit: toothpaste\n",
      "toothpaste details? Type y or n: y\n",
      "{'id': '027', 'Price': 90, 'quantity': 90}\n",
      "Enter the quantity: 56\n",
      "confirm purchase? y or n: y\n",
      "56 toothpaste purchased at Mon Sep  6 18:16:24 2021 thank you!\n",
      "Enter product name with no space or q to exit: q\n"
     ]
    }
   ],
   "source": [
    "while True:\n",
    "    product = input('Enter product name with no space or q to exit: ').lower()\n",
    "    if product == 'q':\n",
    "        break\n",
    "    elif product in records:\n",
    "        que = input(f'{product} details? Type y or n: ').lower()\n",
    "        if que == 'y':\n",
    "            print(records[product])\n",
    "\n",
    "        quantity = int(input('Enter the quantity: '))\n",
    "        if quantity <= records[product]['quantity']:\n",
    "            ans = input('confirm purchase? y or n: ')\n",
    "            if ans == 'y':\n",
    "                print(f'{quantity} {product} purchased at {time.ctime()} thank you!')\n",
    "                \n",
    "file.close()"
   ]
  },
  {
   "cell_type": "code",
   "execution_count": null,
   "id": "29d87005",
   "metadata": {},
   "outputs": [],
   "source": []
  }
 ],
 "metadata": {
  "kernelspec": {
   "display_name": "Python 3",
   "language": "python",
   "name": "python3"
  },
  "language_info": {
   "codemirror_mode": {
    "name": "ipython",
    "version": 3
   },
   "file_extension": ".py",
   "mimetype": "text/x-python",
   "name": "python",
   "nbconvert_exporter": "python",
   "pygments_lexer": "ipython3",
   "version": "3.8.8"
  }
 },
 "nbformat": 4,
 "nbformat_minor": 5
}
